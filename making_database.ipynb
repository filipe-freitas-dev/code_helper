{
 "cells": [
  {
   "cell_type": "code",
   "execution_count": 5,
   "id": "30861c06",
   "metadata": {},
   "outputs": [
    {
     "name": "stdout",
     "output_type": "stream",
     "text": [
      "[]\n"
     ]
    }
   ],
   "source": [
    "import requests\n",
    "from bs4 import BeautifulSoup\n",
    "\n",
    "\n",
    "res = requests.get(\"https://doc.rust-lang.org/book/\")\n",
    "soup = BeautifulSoup(res.text, \"html.parser\") \n",
    "\n",
    "ols = soup.find_all(\"ol\")\n",
    "print(ols)\n",
    "if ols:\n",
    "    for ol in ols:\n",
    "        for lis in ol.find_all(\"li\"):\n",
    "            for li in lis:\n",
    "                for a in li.find_all(\"a\"):\n",
    "                    href = link.get(\"href\")\n",
    "                    if href:\n",
    "                        print(f\"Texto: {link.text} | Href: {href}\")"
   ]
  }
 ],
 "metadata": {
  "kernelspec": {
   "display_name": "code_helper",
   "language": "python",
   "name": "python3"
  },
  "language_info": {
   "codemirror_mode": {
    "name": "ipython",
    "version": 3
   },
   "file_extension": ".py",
   "mimetype": "text/x-python",
   "name": "python",
   "nbconvert_exporter": "python",
   "pygments_lexer": "ipython3",
   "version": "3.13.7"
  }
 },
 "nbformat": 4,
 "nbformat_minor": 5
}
