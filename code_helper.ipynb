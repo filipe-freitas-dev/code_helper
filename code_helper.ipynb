{
 "cells": [
  {
   "cell_type": "code",
   "execution_count": 1,
   "id": "043967d5",
   "metadata": {},
   "outputs": [
    {
     "name": "stderr",
     "output_type": "stream",
     "text": [
      "/home/filipefreitas/code_helper/lib/python3.13/site-packages/tqdm/auto.py:21: TqdmWarning: IProgress not found. Please update jupyter and ipywidgets. See https://ipywidgets.readthedocs.io/en/stable/user_install.html\n",
      "  from .autonotebook import tqdm as notebook_tqdm\n"
     ]
    }
   ],
   "source": [
    "import os\n",
    "from dotenv import load_dotenv\n",
    "import anthropic\n",
    "import gradio as gr"
   ]
  },
  {
   "cell_type": "code",
   "execution_count": 2,
   "id": "848ba544",
   "metadata": {},
   "outputs": [],
   "source": [
    "load_dotenv(override=True)\n",
    "\n",
    "anthropic_api_key = os.getenv(\"ANTHROPIC_API_KEY\")\n",
    "\n",
    "claude = anthropic.Anthropic()"
   ]
  },
  {
   "cell_type": "code",
   "execution_count": 3,
   "id": "fd9fba52",
   "metadata": {},
   "outputs": [],
   "source": [
    "import requests\n",
    "from bs4 import BeautifulSoup\n",
    "\n",
    "def get_wazuh_docs(urls: list[str]) -> str:\n",
    "    return \"\\n\".join(\n",
    "        line for url in urls for line in BeautifulSoup(requests.get(url).text, \"html.parser\").get_text().splitlines() if line.strip()\n",
    "    )\n"
   ]
  },
  {
   "cell_type": "code",
   "execution_count": 4,
   "id": "b0581cad",
   "metadata": {},
   "outputs": [],
   "source": [
    "\n",
    "wazuh_docs_urls = [\"https://documentation.wazuh.com/current/installation-guide/wazuh-agent/wazuh-agent-package-windows.html\", \"https://documentation.wazuh.com/current/installation-guide/wazuh-agent/wazuh-agent-package-linux.html\", \"https://documentation.wazuh.com/current/installation-guide/wazuh-dashboard/step-by-step.html\",\"https://documentation.wazuh.com/current/installation-guide/wazuh-server/step-by-step.html\",\"https://documentation.wazuh.com/current/installation-guide/wazuh-indexer/step-by-step.html\",\"https://documentation.wazuh.com/current/upgrade-guide/upgrading-central-components.html\", \"https://documentation.wazuh.com/current/user-manual/user-administration/password-management.html\"]\n",
    "\n",
    "SYSTEM_PROMPT = f\"You are a helpful IT assistant. You are helping the user how to configure, install and upgrade wazuh. If you don't know an answer, say so. Don't try to make up an answer if you don't know. Make questions to the user do try to help more your accuracy. You must answer and talk in Brazilian Portuguese.\"\n",
    "    "
   ]
  },
  {
   "cell_type": "code",
   "execution_count": 5,
   "id": "e8cf56b1",
   "metadata": {},
   "outputs": [],
   "source": [
    "from typing import Iterable\n",
    "from anthropic.types import MessageParam\n",
    "\n",
    "class AnthropicChatBot:\n",
    "    std_system_prompt = \"You are a helpful assistant. If you don't know an answer, say so. Don't try to make up an answer if you don't know. Make questions to the user do try to help more your accuracy.\"\n",
    "    \n",
    "    def __init__(self, system_prompt: str = std_system_prompt, context: str | None = None) -> None:\n",
    "        self.context_loaded = False\n",
    "        self.system_prompt = system_prompt\n",
    "        self.context = context\n",
    "\n",
    "    def chat(self, message, history):\n",
    "        if not self.context_loaded and self.context:\n",
    "            context_with_label = \"\\n\\nContext: \" + self.context + \"\\n\\n\"\n",
    "            message = context_with_label + message\n",
    "            self.context_loaded = True\n",
    "\n",
    "        messages: Iterable[MessageParam] = [{\"role\": msg[\"role\"], \"content\": msg[\"content\"]} for msg in history]\n",
    "        messages.append({\"role\": \"user\", \"content\": message})\n",
    "\n",
    "        result = claude.messages.stream(\n",
    "            model=\"claude-sonnet-4-20250514\",\n",
    "            max_tokens=5489,\n",
    "            temperature=0.7,\n",
    "            system=self.system_prompt,\n",
    "            messages=messages,\n",
    "        )\n",
    "\n",
    "        with result as stream:\n",
    "            new_text = \"\"\n",
    "            for text in stream.text_stream:\n",
    "                new_text += text\n",
    "                yield new_text\n",
    "    \n",
    "    def run(self):\n",
    "        gr.ChatInterface(fn=self.chat, type=\"messages\").launch()"
   ]
  },
  {
   "cell_type": "code",
   "execution_count": null,
   "id": "5c8b8466",
   "metadata": {},
   "outputs": [
    {
     "name": "stdout",
     "output_type": "stream",
     "text": [
      "* Running on local URL:  http://127.0.0.1:7860\n",
      "* To create a public link, set `share=True` in `launch()`.\n"
     ]
    },
    {
     "data": {
      "text/html": [
       "<div><iframe src=\"http://127.0.0.1:7860/\" width=\"100%\" height=\"500\" allow=\"autoplay; camera; microphone; clipboard-read; clipboard-write;\" frameborder=\"0\" allowfullscreen></iframe></div>"
      ],
      "text/plain": [
       "<IPython.core.display.HTML object>"
      ]
     },
     "metadata": {},
     "output_type": "display_data"
    }
   ],
   "source": [
    "context = (\n",
    "                f\"There is a context that you must to pay attention, that is the official \"\n",
    "                f\"documentation of Wazuh. To answer take note of this context from the documentation, \"\n",
    "                f\"ignoring the parts that are not related to Wazuh procedures:\\n\\n{get_wazuh_docs(wazuh_docs_urls)}\"\n",
    "            )\n",
    "\n",
    "chatbot = AnthropicChatBot(SYSTEM_PROMPT, context=context)\n",
    "\n",
    "chatbot.run()"
   ]
  }
 ],
 "metadata": {
  "kernelspec": {
   "display_name": "code_helper",
   "language": "python",
   "name": "python3"
  },
  "language_info": {
   "codemirror_mode": {
    "name": "ipython",
    "version": 3
   },
   "file_extension": ".py",
   "mimetype": "text/x-python",
   "name": "python",
   "nbconvert_exporter": "python",
   "pygments_lexer": "ipython3",
   "version": "3.13.7"
  }
 },
 "nbformat": 4,
 "nbformat_minor": 5
}
