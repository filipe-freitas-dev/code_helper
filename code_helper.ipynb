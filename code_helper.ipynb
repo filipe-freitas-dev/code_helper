{
 "cells": [
  {
   "cell_type": "code",
   "execution_count": null,
   "id": "e8cf56b1",
   "metadata": {},
   "outputs": [],
   "source": [
    "from chatbots import OpenAiChatBot\n",
    "\n",
    "\n",
    "chatbot = OpenAiChatBot()\n",
    "\n",
    "chatbot.run()"
   ]
  },
  {
   "cell_type": "code",
   "execution_count": null,
   "id": "b517ebcd",
   "metadata": {},
   "outputs": [],
   "source": [
    "tools_functions: list[dict] = []\n",
    "\n",
    "get_url_function_tool = {\n",
    "    \"name\": \"get_url_content\",\n",
    "    \"description\": \"Find the content about of urls that the user gives. Call this whenever you need to know some content about some url.\",\n",
    "    \"parameters\": {\n",
    "        \"type\": \"object\",\n",
    "        \"properties\": {\n",
    "            \"url\": {\n",
    "                \"type\": \"string\",\n",
    "                \"description\": \"The url that the user wants to know something about\",\n",
    "            },\n",
    "        },\n",
    "        \"require\": [\"url\"],\n",
    "        \"additionalProperties\": False\n",
    "    }\n",
    "}\n",
    "\n",
    "tools_functions.append({\"type\": \"function\", \"function\": get_url_function_tool})\n"
   ]
  }
 ],
 "metadata": {
  "kernelspec": {
   "display_name": "code_helper",
   "language": "python",
   "name": "python3"
  },
  "language_info": {
   "codemirror_mode": {
    "name": "ipython",
    "version": 3
   },
   "file_extension": ".py",
   "mimetype": "text/x-python",
   "name": "python",
   "nbconvert_exporter": "python",
   "pygments_lexer": "ipython3",
   "version": "3.13.7"
  }
 },
 "nbformat": 4,
 "nbformat_minor": 5
}
